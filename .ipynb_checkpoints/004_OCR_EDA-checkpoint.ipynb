{
 "cells": [
  {
   "cell_type": "code",
   "execution_count": 29,
   "id": "5bf369fb-d2dd-4b84-bd9f-4abdd36e8e4f",
   "metadata": {},
   "outputs": [],
   "source": [
    "ds_source = './Dataset/cnr'\n",
    "model_dir = './runs/detect/cnr/weights'\n",
    "ds_crops = './Dataset/Raw/crops'\n",
    "class_names = {0:'Serial No', 1:'Owner Prefix', 2:'ISO1546', 3:'V Serial No', 4:'V Owner Prefix', 5:'V ISO1546'}"
   ]
  },
  {
   "cell_type": "code",
   "execution_count": 30,
   "id": "611518e3-52e4-4eb3-b59e-8d760ccc1dce",
   "metadata": {},
   "outputs": [
    {
     "name": "stdout",
     "output_type": "stream",
     "text": [
      "./runs/detect/cnr/weights\\best.pt\n"
     ]
    }
   ],
   "source": [
    "import os\n",
    "from ultralytics import YOLO\n",
    "import pandas as pd\n",
    "\n",
    "os.makedirs(ds_crops, exist_ok=True)\n",
    "model_path = os.path.join(model_dir, 'best.pt')\n",
    "print(model_path)\n",
    "model = YOLO(model_path)\n",
    "\n",
    "ds_train_img_path = os.path.join(ds_source, 'train/images')\n",
    "ds_train_lbl_path = os.path.join(ds_source, 'train/labels')\n",
    "df_train = pd.read_csv(os.path.join(ds_source, 'train.csv'))"
   ]
  },
  {
   "cell_type": "code",
   "execution_count": 31,
   "id": "c7f78838-9a7c-4285-a74e-07f642f3b579",
   "metadata": {},
   "outputs": [
    {
     "name": "stdout",
     "output_type": "stream",
     "text": [
      "./Dataset/cnr\\train/images\\img001631.jpg\n",
      "./Dataset/cnr\\train/labels\\img001631.txt\n"
     ]
    }
   ],
   "source": [
    "from PIL import Image\n",
    "\n",
    "img_path = os.path.join(ds_train_img_path, df_train.loc[0, 'filename']) + '.jpg'\n",
    "lbl_path = os.path.join(ds_train_lbl_path, df_train.loc[0, 'filename']) + '.txt'\n",
    "print(img_path)\n",
    "print(lbl_path)"
   ]
  },
  {
   "cell_type": "code",
   "execution_count": 32,
   "id": "b95fa2d4-d748-4d66-9b1b-ee1892777226",
   "metadata": {},
   "outputs": [],
   "source": [
    "def read_labels(lbl_path):\n",
    "    labels = []\n",
    "    with open(lbl_path, 'r') as file:\n",
    "        for line in file:\n",
    "            parts = line.strip().split()\n",
    "            if len(parts) == 5:\n",
    "                class_id = int(parts[0])\n",
    "                coords = tuple(map(float, parts[1:]))\n",
    "                labels.append((class_id, *coords))\n",
    "    return labels\n",
    "\n",
    "def crop_images(i"
   ]
  },
  {
   "cell_type": "code",
   "execution_count": 33,
   "id": "e5f31d0c-90cb-48e3-b352-cecc9d13cd99",
   "metadata": {},
   "outputs": [],
   "source": [
    "labels = read_labels(lbl_path)"
   ]
  },
  {
   "cell_type": "code",
   "execution_count": 34,
   "id": "88c8ff64-f867-4eef-980c-87ac728be50d",
   "metadata": {},
   "outputs": [
    {
     "data": {
      "text/plain": [
       "[(4, 0.638602, 0.281867, 0.026484, 0.174391),\n",
       " (3, 0.633148, 0.521781, 0.037391, 0.299062),\n",
       " (5, 0.697789, 0.278008, 0.032703, 0.185359)]"
      ]
     },
     "execution_count": 34,
     "metadata": {},
     "output_type": "execute_result"
    }
   ],
   "source": [
    "labels"
   ]
  },
  {
   "cell_type": "code",
   "execution_count": null,
   "id": "6200349a-cb9a-42b6-ae21-178d950aca13",
   "metadata": {},
   "outputs": [],
   "source": []
  }
 ],
 "metadata": {
  "kernelspec": {
   "display_name": "Python 3 (ipykernel)",
   "language": "python",
   "name": "python3"
  },
  "language_info": {
   "codemirror_mode": {
    "name": "ipython",
    "version": 3
   },
   "file_extension": ".py",
   "mimetype": "text/x-python",
   "name": "python",
   "nbconvert_exporter": "python",
   "pygments_lexer": "ipython3",
   "version": "3.11.11"
  }
 },
 "nbformat": 4,
 "nbformat_minor": 5
}
